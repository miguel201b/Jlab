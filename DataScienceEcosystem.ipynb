{
 "cells": [
  {
   "cell_type": "markdown",
   "id": "2387928c-16ce-46a6-8060-fa3fecd785ac",
   "metadata": {
    "tags": []
   },
   "source": [
    "Data Science Tools and Ecosystem"
   ]
  },
  {
   "cell_type": "markdown",
   "id": "ffb22170-10ce-4bc8-8c9c-13e752b81583",
   "metadata": {},
   "source": [
    "In this notebook, Data Science Tools and Ecosystem are summarized."
   ]
  },
  {
   "cell_type": "markdown",
   "id": "48a50b3d-7e31-488d-84d1-02a08bc6231d",
   "metadata": {
    "tags": []
   },
   "source": [
    "**Objectives:**\n",
    "\n",
    "- List popular languages for Data Science.\n",
    "- Learn to create and manipulate tables in Markdown.\n",
    "- Introduce arithmetic expression examples.\n",
    "- Learn to create both code and markdown cells in Jupyter.\n",
    "- Give different formats to the markdown cells in Jupyter depending on the information we want to share.\n"
   ]
  },
  {
   "cell_type": "markdown",
   "id": "750e96c9-f4ce-4631-940a-ea1531015c0c",
   "metadata": {},
   "source": [
    "Some of the popular languages that Data Scientists use are:"
   ]
  },
  {
   "cell_type": "markdown",
   "id": "9e9f62d4-396b-4838-8ffd-fdf9965736ba",
   "metadata": {
    "tags": []
   },
   "source": [
    "1. Python\n",
    "2. R\n",
    "3. Julia\n",
    "4. Java\n",
    "5. C++"
   ]
  },
  {
   "cell_type": "markdown",
   "id": "19b9be9b-711a-4200-84f3-779f4855b600",
   "metadata": {},
   "source": [
    "Some of the commonly used libraries used by Data Scientists include:\n",
    "\n",
    "1. Pandas\n",
    "2. Numpy\n",
    "3. SciPy\n",
    "4. scikit-learn\n",
    "5. TensorFlow\n",
    "6. Matplotlib\n",
    "7. Seaborn\n",
    "8. dplyr\n",
    "9. tidyverse\n",
    "10. ggplot2\n",
    "11. caret\n"
   ]
  },
  {
   "cell_type": "markdown",
   "id": "ba24092d-bfcd-4f80-832a-d6b4d4bf8a9a",
   "metadata": {},
   "source": [
    "| Data Science Tools |\n",
    "| --- |\n",
    "| Jupyter Notebook |\n",
    "| RStudio |\n",
    "| Anaconda |\n",
    "\n"
   ]
  },
  {
   "cell_type": "markdown",
   "id": "7dd40299-8ae0-4629-ac46-b65eed553a24",
   "metadata": {},
   "source": [
    "### Below are a few examples of evaluating arithmetic expressions in Python."
   ]
  },
  {
   "cell_type": "code",
   "execution_count": 8,
   "id": "04c17a04-5696-426f-a09c-cb5c14ae9b53",
   "metadata": {
    "tags": []
   },
   "outputs": [
    {
     "data": {
      "text/plain": [
       "17"
      ]
     },
     "execution_count": 8,
     "metadata": {},
     "output_type": "execute_result"
    }
   ],
   "source": [
    "(3*4)+5\n"
   ]
  },
  {
   "cell_type": "code",
   "execution_count": 11,
   "id": "0de8255f-9786-4d76-b734-fb0136cab1f8",
   "metadata": {
    "tags": []
   },
   "outputs": [
    {
     "data": {
      "text/plain": [
       "3.3333333333333335"
      ]
     },
     "execution_count": 11,
     "metadata": {},
     "output_type": "execute_result"
    }
   ],
   "source": [
    "# This will convert 200 minutes to \n",
    "#hours by dividing by 60.\n",
    "minutes = 200\n",
    "hours = minutes / 60\n",
    "hours\n"
   ]
  },
  {
   "cell_type": "markdown",
   "id": "a074552c-b424-4227-832f-cd27312a5828",
   "metadata": {
    "tags": []
   },
   "source": [
    "## Author:\n",
    "Miguel Ángel Hernández Godínez\n"
   ]
  },
  {
   "cell_type": "code",
   "execution_count": null,
   "id": "ff2e7c57-1fd7-4330-b2fa-89b45d8975ab",
   "metadata": {},
   "outputs": [],
   "source": []
  }
 ],
 "metadata": {
  "kernelspec": {
   "display_name": "Python",
   "language": "python",
   "name": "conda-env-python-py"
  },
  "language_info": {
   "codemirror_mode": {
    "name": "ipython",
    "version": 3
   },
   "file_extension": ".py",
   "mimetype": "text/x-python",
   "name": "python",
   "nbconvert_exporter": "python",
   "pygments_lexer": "ipython3",
   "version": "3.7.12"
  },
  "toc-autonumbering": false,
  "toc-showcode": true,
  "toc-showmarkdowntxt": false
 },
 "nbformat": 4,
 "nbformat_minor": 5
}
